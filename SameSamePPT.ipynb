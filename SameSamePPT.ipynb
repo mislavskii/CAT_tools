{
 "cells": [
  {
   "cell_type": "markdown",
   "id": "9168b298",
   "metadata": {},
   "source": [
    "# Batch Translation Simulated Engine (Magic)"
   ]
  },
  {
   "cell_type": "code",
   "execution_count": 1,
   "id": "593711b5",
   "metadata": {},
   "outputs": [],
   "source": [
    "from pptx import Presentation\n",
    "from os import scandir\n",
    "import pandas as pd"
   ]
  },
  {
   "cell_type": "markdown",
   "id": "c0251264",
   "metadata": {},
   "source": [
    "## Finding repeated text runs in a batch of PPTX files"
   ]
  },
  {
   "cell_type": "code",
   "execution_count": 61,
   "id": "7936ec89",
   "metadata": {},
   "outputs": [
    {
     "name": "stdin",
     "output_type": "stream",
     "text": [
      "Folder:  D:\\Earn\\Translate\\English\\Stories\\Corny\n"
     ]
    }
   ],
   "source": [
    "folder = input('Folder: ').replace('\\\\', '/')\n",
    "# folder"
   ]
  },
  {
   "cell_type": "markdown",
   "id": "2bbbeab5",
   "metadata": {},
   "source": [
    "Extracting all text runs longer than 2 chars form each file:"
   ]
  },
  {
   "cell_type": "code",
   "execution_count": 54,
   "id": "56c9223c",
   "metadata": {},
   "outputs": [],
   "source": [
    "all_runs = dict()  # keys will be file names, each mapped to a list of text runs from that file as strings\n",
    "for file in scandir(folder):\n",
    "    if file.name.endswith('.pptx'):\n",
    "        pres = Presentation(file.path)\n",
    "        runs = []\n",
    "        for slide in pres.slides:\n",
    "            for shape in slide.shapes:\n",
    "                if shape.has_text_frame: \n",
    "                    for paragraph in shape.text_frame.paragraphs:\n",
    "                        for run in paragraph.runs:\n",
    "                            if len(run.text) > 2:\n",
    "                                runs.append(run.text)\n",
    "        all_runs[file.name.rstrip('.pptx')] = runs  \n",
    "        \n",
    "# the dict is not really needed at this point but could be built upon at a later dev stage"
   ]
  },
  {
   "cell_type": "code",
   "execution_count": 73,
   "id": "085a6d59",
   "metadata": {},
   "outputs": [],
   "source": [
    "# merge all entries into one long list\n",
    "runs_through = []\n",
    "for val in all_runs.values():\n",
    "    runs_through += val\n",
    "\n",
    "# get count of occurrences for each entry\n",
    "counted_runs = dict()\n",
    "for run in runs_through:\n",
    "    counted_runs[run] = runs_through.count(run)"
   ]
  },
  {
   "cell_type": "code",
   "execution_count": 90,
   "id": "2fb6fb88",
   "metadata": {},
   "outputs": [],
   "source": [
    "# Pulling counted entries into a dataframe\n",
    "text_bits = pd.DataFrame({'Entry': counted_runs.keys(), \n",
    "                          'Count': counted_runs.values()})"
   ]
  },
  {
   "cell_type": "code",
   "execution_count": 93,
   "id": "a8d62007",
   "metadata": {},
   "outputs": [],
   "source": [
    "# selecting strings occuring at least twice\n",
    "useful_text_bits = text_bits[text_bits.Count >= 2].sort_values(by = \"Count\", ascending=False)"
   ]
  },
  {
   "cell_type": "code",
   "execution_count": 94,
   "id": "f5132b86",
   "metadata": {},
   "outputs": [
    {
     "data": {
      "text/html": [
       "<div>\n",
       "<style scoped>\n",
       "    .dataframe tbody tr th:only-of-type {\n",
       "        vertical-align: middle;\n",
       "    }\n",
       "\n",
       "    .dataframe tbody tr th {\n",
       "        vertical-align: top;\n",
       "    }\n",
       "\n",
       "    .dataframe thead th {\n",
       "        text-align: right;\n",
       "    }\n",
       "</style>\n",
       "<table border=\"1\" class=\"dataframe\">\n",
       "  <thead>\n",
       "    <tr style=\"text-align: right;\">\n",
       "      <th></th>\n",
       "      <th>Entry</th>\n",
       "      <th>Count</th>\n",
       "    </tr>\n",
       "  </thead>\n",
       "  <tbody>\n",
       "    <tr>\n",
       "      <th>467</th>\n",
       "      <td>Ответ</td>\n",
       "      <td>42</td>\n",
       "    </tr>\n",
       "    <tr>\n",
       "      <th>299</th>\n",
       "      <td>Corny</td>\n",
       "      <td>36</td>\n",
       "    </tr>\n",
       "    <tr>\n",
       "      <th>65</th>\n",
       "      <td>день, Ситуация</td>\n",
       "      <td>30</td>\n",
       "    </tr>\n",
       "    <tr>\n",
       "      <th>79</th>\n",
       "      <td>Опишите словами и проиллюстрируй картинками сп...</td>\n",
       "      <td>24</td>\n",
       "    </tr>\n",
       "    <tr>\n",
       "      <th>36</th>\n",
       "      <td>Опишите подробно ситуацию</td>\n",
       "      <td>24</td>\n",
       "    </tr>\n",
       "    <tr>\n",
       "      <th>...</th>\n",
       "      <td>...</td>\n",
       "      <td>...</td>\n",
       "    </tr>\n",
       "    <tr>\n",
       "      <th>1</th>\n",
       "      <td>Задание 1</td>\n",
       "      <td>2</td>\n",
       "    </tr>\n",
       "    <tr>\n",
       "      <th>12</th>\n",
       "      <td>После того, как вы выполните и отправите нам э...</td>\n",
       "      <td>2</td>\n",
       "    </tr>\n",
       "    <tr>\n",
       "      <th>13</th>\n",
       "      <td>мы вышлем второе задание,</td>\n",
       "      <td>2</td>\n",
       "    </tr>\n",
       "    <tr>\n",
       "      <th>160</th>\n",
       "      <td>1 (продолжение)</td>\n",
       "      <td>2</td>\n",
       "    </tr>\n",
       "    <tr>\n",
       "      <th>663</th>\n",
       "      <td>Аня</td>\n",
       "      <td>2</td>\n",
       "    </tr>\n",
       "  </tbody>\n",
       "</table>\n",
       "<p>153 rows × 2 columns</p>\n",
       "</div>"
      ],
      "text/plain": [
       "                                                 Entry  Count\n",
       "467                                              Ответ     42\n",
       "299                                              Corny     36\n",
       "65                                     день, Ситуация      30\n",
       "79   Опишите словами и проиллюстрируй картинками сп...     24\n",
       "36                          Опишите подробно ситуацию      24\n",
       "..                                                 ...    ...\n",
       "1                                            Задание 1      2\n",
       "12   После того, как вы выполните и отправите нам э...      2\n",
       "13                          мы вышлем второе задание,       2\n",
       "160                                    1 (продолжение)      2\n",
       "663                                                Аня      2\n",
       "\n",
       "[153 rows x 2 columns]"
      ]
     },
     "execution_count": 94,
     "metadata": {},
     "output_type": "execute_result"
    }
   ],
   "source": [
    "useful_text_bits"
   ]
  },
  {
   "cell_type": "markdown",
   "id": "ee7e855e",
   "metadata": {},
   "source": [
    "And saving strings occuring at least twice into a csv file"
   ]
  },
  {
   "cell_type": "code",
   "execution_count": 118,
   "id": "68ac22c2",
   "metadata": {},
   "outputs": [],
   "source": [
    "xl_destination = folder + '/repeated_bits.csv'\n",
    "xl_destination\n",
    "\n",
    "useful_text_bits.to_csv(xl_destination, sep='|', index_label='Index')"
   ]
  },
  {
   "cell_type": "markdown",
   "id": "a7840e90",
   "metadata": {},
   "source": [
    "**At this point control is passed to a Sentient Entity (SE) capable of operating relevant human languages to do their magic on the csv file...**"
   ]
  },
  {
   "cell_type": "markdown",
   "id": "cbdeae63",
   "metadata": {},
   "source": [
    "!!! Processed file should be **properly** saved by SE preserving the columns !!!\n",
    "\n",
    "They will have to figure out how to insert Translation column in the right position and manually fill it out using whatever tools at their disposal to prove their sentience."
   ]
  },
  {
   "cell_type": "markdown",
   "id": "e7839319",
   "metadata": {},
   "source": [
    "## Replacing all occurrences of repeated strings across all files with translations provided by the SE, if any\n",
    "\n",
    "and saving processed files under new names"
   ]
  },
  {
   "cell_type": "code",
   "execution_count": 57,
   "id": "330c718b",
   "metadata": {},
   "outputs": [],
   "source": [
    "path = folder + '/translated_bits_from_csv.txt'\n",
    "path\n",
    "\n",
    "# reading the file magically processed by SE - control returned to Computer\n",
    "translated_bits = pd.read_csv(path, sep='|', usecols=['Entry','Translation'], index_col='Entry')\n",
    "translated_bits.dropna(inplace=True)"
   ]
  },
  {
   "cell_type": "code",
   "execution_count": 44,
   "id": "fce9e524",
   "metadata": {},
   "outputs": [
    {
     "data": {
      "text/html": [
       "<div>\n",
       "<style scoped>\n",
       "    .dataframe tbody tr th:only-of-type {\n",
       "        vertical-align: middle;\n",
       "    }\n",
       "\n",
       "    .dataframe tbody tr th {\n",
       "        vertical-align: top;\n",
       "    }\n",
       "\n",
       "    .dataframe thead th {\n",
       "        text-align: right;\n",
       "    }\n",
       "</style>\n",
       "<table border=\"1\" class=\"dataframe\">\n",
       "  <thead>\n",
       "    <tr style=\"text-align: right;\">\n",
       "      <th></th>\n",
       "      <th>Translation</th>\n",
       "    </tr>\n",
       "    <tr>\n",
       "      <th>Entry</th>\n",
       "      <th></th>\n",
       "    </tr>\n",
       "  </thead>\n",
       "  <tbody>\n",
       "    <tr>\n",
       "      <th>Ответ</th>\n",
       "      <td>Answer</td>\n",
       "    </tr>\n",
       "    <tr>\n",
       "      <th>Опишите словами и проиллюстрируй картинками справа</th>\n",
       "      <td>Please, provide verbal description and illustr...</td>\n",
       "    </tr>\n",
       "    <tr>\n",
       "      <th>Опишите подробно ситуацию</th>\n",
       "      <td>Detailed description of the situation</td>\n",
       "    </tr>\n",
       "    <tr>\n",
       "      <th>Место для фото</th>\n",
       "      <td>Paste photo here</td>\n",
       "    </tr>\n",
       "    <tr>\n",
       "      <th>Место для фото ситуации</th>\n",
       "      <td>Paste photo of the situation here</td>\n",
       "    </tr>\n",
       "    <tr>\n",
       "      <th>...</th>\n",
       "      <td>...</td>\n",
       "    </tr>\n",
       "    <tr>\n",
       "      <th>Задание 1</th>\n",
       "      <td>Task 1</td>\n",
       "    </tr>\n",
       "    <tr>\n",
       "      <th>После того, как вы выполните и отправите нам это задание,</th>\n",
       "      <td>Once you have completed the task and sent it t...</td>\n",
       "    </tr>\n",
       "    <tr>\n",
       "      <th>мы вышлем второе задание,</th>\n",
       "      <td>We will send the second task to you</td>\n",
       "    </tr>\n",
       "    <tr>\n",
       "      <th>1 (продолжение)</th>\n",
       "      <td>1 (continued)</td>\n",
       "    </tr>\n",
       "    <tr>\n",
       "      <th>Аня</th>\n",
       "      <td>Anya</td>\n",
       "    </tr>\n",
       "  </tbody>\n",
       "</table>\n",
       "<p>113 rows × 1 columns</p>\n",
       "</div>"
      ],
      "text/plain": [
       "                                                                                          Translation\n",
       "Entry                                                                                                \n",
       "Ответ                                                                                          Answer\n",
       "Опишите словами и проиллюстрируй картинками справа  Please, provide verbal description and illustr...\n",
       "Опишите подробно ситуацию                                      Detailed description of the situation \n",
       "Место для фото                                                                       Paste photo here\n",
       "Место для фото ситуации                                             Paste photo of the situation here\n",
       "...                                                                                               ...\n",
       "Задание 1                                                                                      Task 1\n",
       "После того, как вы выполните и отправите нам эт...  Once you have completed the task and sent it t...\n",
       "мы вышлем второе задание,                                        We will send the second task to you \n",
       "1 (продолжение)                                                                         1 (continued)\n",
       "Аня                                                                                              Anya\n",
       "\n",
       "[113 rows x 1 columns]"
      ]
     },
     "execution_count": 44,
     "metadata": {},
     "output_type": "execute_result"
    }
   ],
   "source": [
    "translated_bits"
   ]
  },
  {
   "cell_type": "code",
   "execution_count": 60,
   "id": "3487c82e",
   "metadata": {},
   "outputs": [],
   "source": [
    "for file in scandir(folder):  # scanning pptx files in folder one by one \n",
    "    if file.name.endswith('.pptx'):\n",
    "        pres = Presentation(file.path)\n",
    "        changed = False\n",
    "        for slide in pres.slides:\n",
    "            for shape in slide.shapes:\n",
    "                if shape.has_text_frame: \n",
    "                    for paragraph in shape.text_frame.paragraphs:\n",
    "                        for run in paragraph.runs:\n",
    "                            if run.text in translated_bits.index:  # finding matched text runs\n",
    "                                run.text = translated_bits.Translation[run.text]  # substituting translation\n",
    "                                changed = True  # marking the file as changed\n",
    "        if changed:\n",
    "            pres.save(folder + '/preprocessed_' + file.name)  # saving processed file if changed"
   ]
  },
  {
   "cell_type": "markdown",
   "id": "c4238b0c",
   "metadata": {},
   "source": [
    "Voila"
   ]
  },
  {
   "cell_type": "code",
   "execution_count": null,
   "id": "caa5cd4b",
   "metadata": {},
   "outputs": [],
   "source": []
  }
 ],
 "metadata": {
  "kernelspec": {
   "display_name": "Python 3",
   "language": "python",
   "name": "python3"
  },
  "language_info": {
   "codemirror_mode": {
    "name": "ipython",
    "version": 3
   },
   "file_extension": ".py",
   "mimetype": "text/x-python",
   "name": "python",
   "nbconvert_exporter": "python",
   "pygments_lexer": "ipython3",
   "version": "3.7.6"
  }
 },
 "nbformat": 4,
 "nbformat_minor": 5
}
